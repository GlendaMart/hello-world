{
  "nbformat": 4,
  "nbformat_minor": 0,
  "metadata": {
    "kernelspec": {
      "display_name": "Python 3",
      "language": "python",
      "name": "python3"
    },
    "language_info": {
      "codemirror_mode": {
        "name": "ipython",
        "version": 3
      },
      "file_extension": ".py",
      "mimetype": "text/x-python",
      "name": "python",
      "nbconvert_exporter": "python",
      "pygments_lexer": "ipython3",
      "version": "3.6.5"
    },
    "colab": {
      "name": "Copia de Introducción y variables.ipynb",
      "provenance": [],
      "collapsed_sections": [],
      "toc_visible": true,
      "include_colab_link": true
    }
  },
  "cells": [
    {
      "cell_type": "markdown",
      "metadata": {
        "id": "view-in-github",
        "colab_type": "text"
      },
      "source": [
        "<a href=\"https://colab.research.google.com/github/GlendaMart/hello-world/blob/main/Copia_de_Introducci%C3%B3n_y_variables.ipynb\" target=\"_parent\"><img src=\"https://colab.research.google.com/assets/colab-badge.svg\" alt=\"Open In Colab\"/></a>"
      ]
    },
    {
      "cell_type": "markdown",
      "metadata": {
        "id": "Br3xGCjw10YS"
      },
      "source": [
        "\n",
        "\n",
        "```\n",
        "# Esto tiene formato de código`\n",
        "```\n",
        "\n",
        "# HELLO WORLD!!!\n",
        "\n",
        "Añadamos la famosa línea *\"Hello World!\"*\n",
        "\n",
        "\n",
        "\n"
      ]
    },
    {
      "cell_type": "markdown",
      "metadata": {
        "id": "GNdfeb7L-qeY"
      },
      "source": [
        "\n"
      ]
    },
    {
      "cell_type": "code",
      "metadata": {
        "id": "qv1QJPdZ10YU",
        "outputId": "5fa5b07f-fbcb-4180-d0c9-de2f89ae6760",
        "colab": {
          "base_uri": "https://localhost:8080/",
          "height": 34
        }
      },
      "source": [
        "message = \"Hello World!!!\"\n",
        "\n",
        "print (message)"
      ],
      "execution_count": 3,
      "outputs": [
        {
          "output_type": "stream",
          "text": [
            "Hello World!!!\n"
          ],
          "name": "stdout"
        }
      ]
    },
    {
      "cell_type": "markdown",
      "metadata": {
        "id": "XJN4OH8s10Yh"
      },
      "source": [
        "Acabamos de definir una variable llamada `message` cuyo valor/información es `Hello World!`.\n",
        "\n",
        "Básicamente, lo que estamos haciendo es que Python se convierta en un intérprete. En este caso, en la primera línea define la variable `message` y en la siguiente con el comando `print` nos lo muestra en pantalla.\n",
        "\n",
        "Veamos ahora algunas nociones de iniciación para programadores."
      ]
    },
    {
      "cell_type": "markdown",
      "metadata": {
        "id": "gbS9u9Kv10Yj"
      },
      "source": [
        "## Nomenclatura de variables\n",
        "\n",
        "Podría parecer un apartado muy poco relevante, pero a la hora de escribir el nombre de una variable se cometen muchos errores. Veamos una guía para hacer el código más limpio y entendible:\n",
        "\n",
        "- El nombre de las variables sólo contiene letras números y `_`. Nunca empiezan por un carácter numérico. Por ejemplo, el nombre `variable_1` estaría correcto pero no `1_variable`.\n",
        "\n",
        "- Los espacios no están permitidos en el nombre de las variables. Es decir, `variable_edad` estaría correcto pero `variable edad` no lo estaría.\n",
        "\n",
        "- Evitar *keywords* de Python como nombres de variables, por ejemplo, como crear una variable que se llame `print`.\n",
        "\n",
        "- Las variables serán en la medida de lo posible descriptivas y simples. \n",
        "\n",
        "- Python distingue entre mayúsculas y minúsculas por lo que es conveniente poner todo en minúsculas.\n",
        "\n",
        "Algunos ejemplos de errores:"
      ]
    },
    {
      "cell_type": "code",
      "metadata": {
        "id": "zRdTBRBO10Yk",
        "outputId": "d3e819fe-6b35-4c09-e579-d7fbd138e8b3",
        "colab": {
          "base_uri": "https://localhost:8080/",
          "height": 35
        }
      },
      "source": [
        "variable_1 = 'Hello'\n",
        "variable_1"
      ],
      "execution_count": 5,
      "outputs": [
        {
          "output_type": "execute_result",
          "data": {
            "application/vnd.google.colaboratory.intrinsic+json": {
              "type": "string"
            },
            "text/plain": [
              "'Hello'"
            ]
          },
          "metadata": {
            "tags": []
          },
          "execution_count": 5
        }
      ]
    },
    {
      "cell_type": "code",
      "metadata": {
        "id": "XkK59Nrs10Yq",
        "outputId": "fae8ead9-0732-4604-ccab-a09da70e7f83",
        "colab": {
          "base_uri": "https://localhost:8080/",
          "height": 34
        }
      },
      "source": [
        "variable_edad = 25.0 \n",
        "variable_edad\n"
      ],
      "execution_count": 9,
      "outputs": [
        {
          "output_type": "execute_result",
          "data": {
            "text/plain": [
              "25.0"
            ]
          },
          "metadata": {
            "tags": []
          },
          "execution_count": 9
        }
      ]
    },
    {
      "cell_type": "code",
      "metadata": {
        "id": "qZvlx_SYvKMw",
        "outputId": "3a91ee82-9931-466b-8e88-3834e1923972",
        "colab": {
          "base_uri": "https://localhost:8080/",
          "height": 34
        }
      },
      "source": [
        "type(variable_edad)"
      ],
      "execution_count": null,
      "outputs": [
        {
          "output_type": "execute_result",
          "data": {
            "text/plain": [
              "float"
            ]
          },
          "metadata": {
            "tags": []
          },
          "execution_count": 11
        }
      ]
    },
    {
      "cell_type": "code",
      "metadata": {
        "id": "AbfX04BQvkEH",
        "outputId": "02ba0d01-a39f-4ff6-d122-3c5a412b39ad",
        "colab": {
          "base_uri": "https://localhost:8080/",
          "height": 34
        }
      },
      "source": [
        "25/5"
      ],
      "execution_count": 11,
      "outputs": [
        {
          "output_type": "execute_result",
          "data": {
            "text/plain": [
              "5.0"
            ]
          },
          "metadata": {
            "tags": []
          },
          "execution_count": 11
        }
      ]
    },
    {
      "cell_type": "code",
      "metadata": {
        "id": "YXIZv52l10Yx",
        "outputId": "33f1edec-3418-46c5-de6d-977f52324327",
        "colab": {
          "base_uri": "https://localhost:8080/",
          "height": 34
        }
      },
      "source": [
        "variable_edad = 25\n",
        "variable_edad\n"
      ],
      "execution_count": 29,
      "outputs": [
        {
          "output_type": "execute_result",
          "data": {
            "text/plain": [
              "25"
            ]
          },
          "metadata": {
            "tags": []
          },
          "execution_count": 29
        }
      ]
    },
    {
      "cell_type": "markdown",
      "metadata": {
        "id": "pj7z3PDT10Y4"
      },
      "source": [
        "Para escribir comentarios en el código se utiliza `#`. Son muy importantes pues en la vida laboral los proyectos de programación pasan de una persona a otra y ahorra mucho tiempo el tener una explicación de lo que hace el código mediante comentarios."
      ]
    },
    {
      "cell_type": "markdown",
      "metadata": {
        "id": "nYTUj8lp10Y5"
      },
      "source": [
        "## Interpretación de errores\n",
        "Siguiendo el hilo de los errores anteriores, todos y cada uno de los programadores del mundo cometemos errores cada día pero es de buen programador saber interpretarlos y resolverlos.\n",
        "\n",
        "Imaginemos que después de estar horas programando se nos olvida una `s` de nuestra variable `message`:"
      ]
    },
    {
      "cell_type": "code",
      "metadata": {
        "id": "SxBy7Q_n10Y6",
        "outputId": "38aad08d-d6fe-4ba0-bd33-9e75304c39d9",
        "colab": {
          "base_uri": "https://localhost:8080/",
          "height": 34
        }
      },
      "source": [
        "message = 'Hi Jhonatan!'\n",
        "print(message)\n"
      ],
      "execution_count": 17,
      "outputs": [
        {
          "output_type": "stream",
          "text": [
            "Hi Jhonatan!\n"
          ],
          "name": "stdout"
        }
      ]
    },
    {
      "cell_type": "markdown",
      "metadata": {
        "id": "fAZ6rlhc10ZB"
      },
      "source": [
        "Una de las grandes ventajas de Python es que cada vez que tengamos un error nos indicará al menos la línea donde se encuentra por lo que podremos corregirlo fácilmente."
      ]
    },
    {
      "cell_type": "code",
      "metadata": {
        "id": "0hMXhH8510ZC",
        "outputId": "401c0944-c299-4849-b86d-29ba4485bebb"
      },
      "source": [
        "print(message)"
      ],
      "execution_count": null,
      "outputs": [
        {
          "output_type": "stream",
          "text": [
            "Hi Lidia!\n"
          ],
          "name": "stdout"
        }
      ]
    },
    {
      "cell_type": "markdown",
      "metadata": {
        "id": "UCBh_3BM10ZH"
      },
      "source": [
        "Cuando el código empieza a ser largo y complejo gracias a tener una buena nomenclatura de variables, entre otras cosas,  nos será más fácil resolver e identificar los errores. \n"
      ]
    },
    {
      "cell_type": "markdown",
      "metadata": {
        "id": "pxz62EQu10ZH"
      },
      "source": [
        "## Tipo de variable: cadenas de texto\n",
        "\n",
        "Veamos algunos comandos básicos de cadenas de texto:"
      ]
    },
    {
      "cell_type": "code",
      "metadata": {
        "id": "tXk7qJtu10ZI",
        "outputId": "bd0c3763-6768-419d-f805-dda9bdbfb474",
        "colab": {
          "base_uri": "https://localhost:8080/",
          "height": 34
        }
      },
      "source": [
        "# títulos\n",
        "name = \"glenda martinez\"\n",
        "print(name.title()) #esto me sirve para poner en inicial mayuscula cada palabra"
      ],
      "execution_count": 19,
      "outputs": [
        {
          "output_type": "stream",
          "text": [
            "Glenda Martinez\n"
          ],
          "name": "stdout"
        }
      ]
    },
    {
      "cell_type": "code",
      "metadata": {
        "id": "-cpj5BDi10ZL",
        "outputId": "9ea748c4-3f82-47b3-f845-fc9375bad5f8",
        "colab": {
          "base_uri": "https://localhost:8080/",
          "height": 34
        }
      },
      "source": [
        "# letras en mayúsculas\n",
        "print(name.upper()) #Todo lo pone en mayuscula"
      ],
      "execution_count": 20,
      "outputs": [
        {
          "output_type": "stream",
          "text": [
            "GLENDA MARTINEZ\n"
          ],
          "name": "stdout"
        }
      ]
    },
    {
      "cell_type": "code",
      "metadata": {
        "id": "Aw_iu1we10ZQ",
        "outputId": "1e28beee-f81f-4335-f9c9-637509d6dd7c",
        "colab": {
          "base_uri": "https://localhost:8080/",
          "height": 34
        }
      },
      "source": [
        "# letras en minúsculas\n",
        "\n",
        "print(name.lower()) #lo pone todo en micuscula"
      ],
      "execution_count": 25,
      "outputs": [
        {
          "output_type": "stream",
          "text": [
            "glenda martinez\n"
          ],
          "name": "stdout"
        }
      ]
    },
    {
      "cell_type": "code",
      "metadata": {
        "id": "XwR_dTeR10ZT",
        "outputId": "71735b3f-9cb6-410c-c94f-e7f50e088c96",
        "colab": {
          "base_uri": "https://localhost:8080/",
          "height": 34
        }
      },
      "source": [
        "# concatenación de cadenas\n",
        "first_name = 'Glenda'\n",
        "last_name = \"Martinez\"\n",
        "full_name = first_name + \" \" + last_name #pone en orden como si se estuviera sumando las palabras.\n",
        "print(full_name)"
      ],
      "execution_count": 31,
      "outputs": [
        {
          "output_type": "stream",
          "text": [
            "Glenda Martinez\n"
          ],
          "name": "stdout"
        }
      ]
    },
    {
      "cell_type": "code",
      "metadata": {
        "id": "RwgzhI-WyfD8",
        "outputId": "9c34260e-9dde-42d0-9573-c4b739317803",
        "colab": {
          "base_uri": "https://localhost:8080/",
          "height": 35
        }
      },
      "source": [
        "\"'Glenda Martinez'\""
      ],
      "execution_count": 32,
      "outputs": [
        {
          "output_type": "execute_result",
          "data": {
            "application/vnd.google.colaboratory.intrinsic+json": {
              "type": "string"
            },
            "text/plain": [
              "\"'Glenda Martinez'\""
            ]
          },
          "metadata": {
            "tags": []
          },
          "execution_count": 32
        }
      ]
    },
    {
      "cell_type": "code",
      "metadata": {
        "id": "OWPWM4XI10ZZ",
        "outputId": "4c372cc8-e886-496a-a4fd-1cb17e360947",
        "colab": {
          "base_uri": "https://localhost:8080/",
          "height": 51
        }
      },
      "source": [
        "# añadimos un espacio con el comando \\t\n",
        "print('Hola')\n",
        "print(\"\\tHola!\")# el eslash t (\\t) sirve para dar un salto de linea con \\ y agregar una sangria con t"
      ],
      "execution_count": 40,
      "outputs": [
        {
          "output_type": "stream",
          "text": [
            "Hola\n",
            "\tHola!\n"
          ],
          "name": "stdout"
        }
      ]
    },
    {
      "cell_type": "code",
      "metadata": {
        "id": "cBlxGiJA10Zd",
        "outputId": "1dfb76f0-b12e-4115-a6d7-31dfa4ecd449",
        "colab": {
          "base_uri": "https://localhost:8080/",
          "height": 68
        }
      },
      "source": [
        "# añadimos una nueva línea con el comando \\n\n",
        "print('Hola! \\nQué tal?, \\nQue cuentas?') #nuevamente, el eslash n (\\n) genera un salto de la palabra a mostrar"
      ],
      "execution_count": 46,
      "outputs": [
        {
          "output_type": "stream",
          "text": [
            "Hola! \n",
            "Qué tal?, \n",
            "Que cuentas?\n"
          ],
          "name": "stdout"
        }
      ]
    },
    {
      "cell_type": "markdown",
      "metadata": {
        "id": "7gdOjwF210Zk"
      },
      "source": [
        "Un problema muy común que podemos encontrar tratando con nombres de columnas, textos, variables de texto etc... es el problema de **espacios**. Tener una palabra/texto que tiene un espacio al final o al principio que a primera vista no conseguimos identificar. Una buena manera de resolverlo es utilizando `rstrip()` o `lstrip()` para derecha e iquierza respectivamente.  "
      ]
    },
    {
      "cell_type": "code",
      "metadata": {
        "id": "msmFfsUb10Zl",
        "outputId": "b8f07def-64c1-445c-cd15-9f9f84091afd"
      },
      "source": [
        "# Nos encontramos ante un problema de espacios por la derecha\n",
        "# reescribimos\n",
        "mi_lengua_materna = 'español '\n",
        "print(mi_lengua_materna)\n",
        "mi_lengua_materna = mi_lengua_materna.rstrip()\n",
        "mi_lengua_materna\n",
        "print(mi_lengua_materna)\n",
        "mi_segunda_lengua = ' ingles'\n",
        "print(mi_segunda_lengua)\n",
        "mi_segunda_lengua = mi_segunda_lengua.lstrip()\n",
        "print(mi_segunda_lengua)"
      ],
      "execution_count": null,
      "outputs": [
        {
          "output_type": "stream",
          "text": [
            "español \n",
            "español\n",
            " ingles\n",
            "ingles\n"
          ],
          "name": "stdout"
        }
      ]
    },
    {
      "cell_type": "markdown",
      "metadata": {
        "id": "8_LKceFl10Zo"
      },
      "source": [
        "Otro posible error con el que nos podemos topar cuando escribimos cadenas de texto es el siguiente:"
      ]
    },
    {
      "cell_type": "code",
      "metadata": {
        "id": "zVAIJbJB10Zp",
        "outputId": "b8bfdfc7-d5e2-499d-ea00-ec4d85119a42",
        "colab": {
          "base_uri": "https://localhost:8080/",
          "height": 129
        }
      },
      "source": [
        "posible_error = 'Hi, I'm Glenda  #no reconoce el apóstrofe como una contraccios, se debe escribir tal cual"
      ],
      "execution_count": 48,
      "outputs": [
        {
          "output_type": "error",
          "ename": "SyntaxError",
          "evalue": "ignored",
          "traceback": [
            "\u001b[0;36m  File \u001b[0;32m\"<ipython-input-48-6c17ce099e54>\"\u001b[0;36m, line \u001b[0;32m1\u001b[0m\n\u001b[0;31m    posible_error = 'Hi, I'm Glenda  #no reconoce el apsotrofe como una contraccios, se debe escribir tal cual\u001b[0m\n\u001b[0m                           ^\u001b[0m\n\u001b[0;31mSyntaxError\u001b[0m\u001b[0;31m:\u001b[0m invalid syntax\n"
          ]
        }
      ]
    },
    {
      "cell_type": "markdown",
      "metadata": {
        "id": "6jtzM8Vh10Zs"
      },
      "source": [
        "Para corregirlo utilicemos un tipo de comillas para englobar el texto y otro tipo para los apóstrofes:"
      ]
    },
    {
      "cell_type": "code",
      "metadata": {
        "id": "g224CAVs10Zt",
        "outputId": "4e945f3e-1ff1-4f89-ba09-c49f44bd709c",
        "colab": {
          "base_uri": "https://localhost:8080/",
          "height": 34
        }
      },
      "source": [
        "corregir_error = \"Hi, I'm Glenda\"\n",
        "print(corregir_error)# caso especial para detectar error y mostrarlo como un texto habitual"
      ],
      "execution_count": 49,
      "outputs": [
        {
          "output_type": "stream",
          "text": [
            "Hi, I'm Glenda\n"
          ],
          "name": "stdout"
        }
      ]
    },
    {
      "cell_type": "markdown",
      "metadata": {
        "id": "xbyIb4M910Z5"
      },
      "source": [
        "## Tipo de variable:  numérica\n",
        "\n",
        "Las variables numéricas son utilizadas continuamente en programación. Como en el mundo matemático, existen los números reales (`float`), los enteros(`int`) y los complejos(`commplex`). \n",
        "\n",
        "**Nota**: Una función que vamos a utilizar es `type` que nos indica la tipología de la variable."
      ]
    },
    {
      "cell_type": "code",
      "metadata": {
        "id": "WIVra1s510Z6",
        "outputId": "bcc955bd-3f60-4eb1-ba71-5212e4a3f37f",
        "colab": {
          "base_uri": "https://localhost:8080/",
          "height": 51
        }
      },
      "source": [
        "# entero\n",
        "x = 3\n",
        "Tipo = \"El tipo de número es\" \n",
        "\n",
        "print(Tipo)\n",
        "type (x)"
      ],
      "execution_count": 72,
      "outputs": [
        {
          "output_type": "stream",
          "text": [
            "El tipo de número es\n"
          ],
          "name": "stdout"
        },
        {
          "output_type": "execute_result",
          "data": {
            "text/plain": [
              "int"
            ]
          },
          "metadata": {
            "tags": []
          },
          "execution_count": 72
        }
      ]
    },
    {
      "cell_type": "code",
      "metadata": {
        "id": "n6RZ3meM10Z9",
        "outputId": "d6c3406d-911f-4e7c-e865-4ecbc4401a0b",
        "colab": {
          "base_uri": "https://localhost:8080/",
          "height": 51
        }
      },
      "source": [
        "# real / float\n",
        "y = 3.5\n",
        "Tipo = \"El tipo de número es\" \n",
        "print(Tipo)\n",
        "type (y)"
      ],
      "execution_count": 73,
      "outputs": [
        {
          "output_type": "stream",
          "text": [
            "El tipo de número es\n"
          ],
          "name": "stdout"
        },
        {
          "output_type": "execute_result",
          "data": {
            "text/plain": [
              "float"
            ]
          },
          "metadata": {
            "tags": []
          },
          "execution_count": 73
        }
      ]
    },
    {
      "cell_type": "code",
      "metadata": {
        "id": "dE-Gl2NCO9kv",
        "outputId": "562dcbe7-38e5-4d34-e335-bb1c4424f2bc",
        "colab": {
          "base_uri": "https://localhost:8080/",
          "height": 51
        }
      },
      "source": [
        "G = 6.674e-11\n",
        "M = 6.39e23\n",
        "print(\"\\tConstante gravitacional:\",G,\"\\n\\t\\tMasa de la Tierra: \",M)"
      ],
      "execution_count": 62,
      "outputs": [
        {
          "output_type": "stream",
          "text": [
            "\tConstante gravitacional: 6.674e-11 \n",
            "\t\tMasa de la Tierra:  6.39e+23\n"
          ],
          "name": "stdout"
        }
      ]
    },
    {
      "cell_type": "code",
      "metadata": {
        "id": "u6GxZ5x_10aE",
        "outputId": "08a13a9d-a5de-46b3-aec8-ddebbd38a371",
        "colab": {
          "base_uri": "https://localhost:8080/",
          "height": 50
        }
      },
      "source": [
        "# complejo\n",
        "x=1\n",
        "y=2\n",
        "# manera1\n",
        "z = 1+1j\n",
        "print(z)\n",
        "z2 = complex(x,y)\n",
        "print(z2)"
      ],
      "execution_count": null,
      "outputs": [
        {
          "output_type": "stream",
          "text": [
            "(1+1j)\n",
            "(1+2j)\n"
          ],
          "name": "stdout"
        }
      ]
    },
    {
      "cell_type": "code",
      "metadata": {
        "id": "bglwhRuj10aH",
        "outputId": "cc5aa913-7b59-434d-fe70-c1fc11897eb0",
        "colab": {
          "base_uri": "https://localhost:8080/",
          "height": 102
        }
      },
      "source": [
        "x=6\n",
        "y=3\n",
        "print('SUMA', x + y)\n",
        "print('RESTA', x - y)\n",
        "print('MULTIPLICACIÓN', x*y)\n",
        "print('DIVISIÓN', x/y)\n",
        "print('EXPONENCIAL', x**y)"
      ],
      "execution_count": 65,
      "outputs": [
        {
          "output_type": "stream",
          "text": [
            "SUMA 9\n",
            "RESTA 3\n",
            "MULTIPLICACIÓN 18\n",
            "DIVISIÓN 2.0\n",
            "EXPONENCIAL 216\n"
          ],
          "name": "stdout"
        }
      ]
    },
    {
      "cell_type": "markdown",
      "metadata": {
        "id": "7DgWam7B10aN"
      },
      "source": [
        "## Mensajes combinados de variables de distinto tipo\n",
        "\n",
        "Es útil cuando damos un resultado o hacemos alguna explicación mostrar en pantalla un mensaje que combine distintos tipos de variables. Es muy sencillo."
      ]
    },
    {
      "cell_type": "code",
      "metadata": {
        "id": "tdvcfkHN10aO",
        "outputId": "0527315b-9779-4299-df6e-484b631a941a",
        "colab": {
          "base_uri": "https://localhost:8080/",
          "height": 34
        }
      },
      "source": [
        "age = 22\n",
        "print('I am',age,'years old') #acá se ha denotado age como un valor que, en vez de escribirlo directamnte esto se ubica en el texto"
      ],
      "execution_count": 66,
      "outputs": [
        {
          "output_type": "stream",
          "text": [
            "I am 22 years old\n"
          ],
          "name": "stdout"
        }
      ]
    },
    {
      "cell_type": "code",
      "metadata": {
        "id": "AA92KdKA10aS",
        "outputId": "16ce9d18-43ab-4692-a71b-5be5dbfb8458"
      },
      "source": [
        "x = 'I am ' +  str(age) + ' years old' #mientras que acá, se pone un afuncion string siendo equivalente a las comillas\n",
        "print(x) # Para mostrar le agrupamiento de cada texto"
      ],
      "execution_count": null,
      "outputs": [
        {
          "output_type": "stream",
          "text": [
            "I am 25 years old\n"
          ],
          "name": "stdout"
        }
      ]
    },
    {
      "cell_type": "code",
      "metadata": {
        "id": "xQ-nThzfPGmg",
        "outputId": "d4d25d70-d1ec-4e48-abfe-9555366e2d37",
        "colab": {
          "base_uri": "https://localhost:8080/",
          "height": 35
        }
      },
      "source": [
        "z = \"22\"\n",
        "g = \"46\"\n",
        "z+g # si es sumar, hay que verificar muy bien"
      ],
      "execution_count": 82,
      "outputs": [
        {
          "output_type": "execute_result",
          "data": {
            "application/vnd.google.colaboratory.intrinsic+json": {
              "type": "string"
            },
            "text/plain": [
              "'2246'"
            ]
          },
          "metadata": {
            "tags": []
          },
          "execution_count": 82
        }
      ]
    },
    {
      "cell_type": "markdown",
      "metadata": {
        "id": "qBi1-1ThS7DU"
      },
      "source": [
        "## ***Ejemplo de como realizar y mostrar una suma muy bien***"
      ]
    },
    {
      "cell_type": "code",
      "metadata": {
        "id": "OkDg2FI2PvD-",
        "outputId": "bf0164e8-0263-4806-8470-7b63052d97df",
        "colab": {
          "base_uri": "https://localhost:8080/",
          "height": 34
        }
      },
      "source": [
        "z = 22\n",
        "g = 46\n",
        "s = z + g\n",
        "print(\"La suma es:\", s)"
      ],
      "execution_count": 81,
      "outputs": [
        {
          "output_type": "stream",
          "text": [
            "La suma es: 68\n"
          ],
          "name": "stdout"
        }
      ]
    },
    {
      "cell_type": "markdown",
      "metadata": {
        "id": "R9WIzTsPStJT"
      },
      "source": [
        "## ***Aprendamos a poner el simbolo de lamda***"
      ]
    },
    {
      "cell_type": "markdown",
      "metadata": {
        "id": "18ZpaQwp3Vix"
      },
      "source": [
        "$ \\lambda $"
      ]
    },
    {
      "cell_type": "code",
      "metadata": {
        "id": "AGWcXX582lQ_",
        "outputId": "9a271009-5aac-46b5-a74f-7feed89f4765",
        "colab": {
          "base_uri": "https://localhost:8080/",
          "height": 35
        }
      },
      "source": [
        "'$\\\\lambda$'b"
      ],
      "execution_count": null,
      "outputs": [
        {
          "output_type": "execute_result",
          "data": {
            "application/vnd.google.colaboratory.intrinsic+json": {
              "type": "string"
            },
            "text/plain": [
              "'$\\\\lambda$'"
            ]
          },
          "metadata": {
            "tags": []
          },
          "execution_count": 30
        }
      ]
    },
    {
      "cell_type": "code",
      "metadata": {
        "id": "1MLLlJHYPFIl"
      },
      "source": [
        ""
      ],
      "execution_count": null,
      "outputs": []
    },
    {
      "cell_type": "code",
      "metadata": {
        "id": "zZZ-j08J4Py_",
        "outputId": "71049eb2-67a9-4190-f22e-58a0223858ba",
        "colab": {
          "base_uri": "https://localhost:8080/"
        }
      },
      "source": [
        "a=3\n",
        "b=7\n",
        "a+b"
      ],
      "execution_count": null,
      "outputs": [
        {
          "output_type": "execute_result",
          "data": {
            "text/plain": [
              "10"
            ]
          },
          "metadata": {
            "tags": []
          },
          "execution_count": 31
        }
      ]
    },
    {
      "cell_type": "code",
      "metadata": {
        "id": "pC6Emwhc10aW",
        "outputId": "be4a6c8d-bfdf-4571-b52b-bc28ad8c7e23"
      },
      "source": [
        "x = '25'\n",
        "x = int(x)\n",
        "print(x)\n",
        "type(x)"
      ],
      "execution_count": null,
      "outputs": [
        {
          "output_type": "stream",
          "text": [
            "25\n"
          ],
          "name": "stdout"
        },
        {
          "output_type": "execute_result",
          "data": {
            "text/plain": [
              "int"
            ]
          },
          "metadata": {
            "tags": []
          },
          "execution_count": 67
        }
      ]
    },
    {
      "cell_type": "code",
      "metadata": {
        "id": "uby0x-Ki1xwh",
        "outputId": "fab42cf4-be69-4deb-ca9b-1a26de04bd96",
        "colab": {
          "base_uri": "https://localhost:8080/",
          "height": 35
        }
      },
      "source": [
        "z='25'\n",
        "g='81'\n",
        "z+g"
      ],
      "execution_count": null,
      "outputs": [
        {
          "output_type": "execute_result",
          "data": {
            "application/vnd.google.colaboratory.intrinsic+json": {
              "type": "string"
            },
            "text/plain": [
              "'2581'"
            ]
          },
          "metadata": {
            "tags": []
          },
          "execution_count": 28
        }
      ]
    },
    {
      "cell_type": "markdown",
      "metadata": {
        "id": "AwnHU-lX46h7"
      },
      "source": [
        "Credits: inspired from LPython93"
      ]
    }
  ]
}